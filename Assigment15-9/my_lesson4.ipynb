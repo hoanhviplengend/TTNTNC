{
 "cells": [
  {
   "cell_type": "markdown",
   "id": "0cfa247f-bf3f-4910-90dc-ae8ecb607964",
   "metadata": {},
   "source": [
    "# Buổi 4: Tìm kiếm trong không gian trạng thái"
   ]
  },
  {
   "cell_type": "markdown",
   "id": "48ace7ff-b7d1-4cf2-94da-a21d2d821112",
   "metadata": {},
   "source": [
    "### Bài 1. Biễu diễn đồ thị\n",
    "\n",
    "Cho đồ thị hàm số **G** (**V**, **E**) như bên dưới:\n",
    "\n",
    "![image](dothi.png)"
   ]
  },
  {
   "cell_type": "markdown",
   "id": "51164f9d-5d98-4361-b2c2-1fb23fd3704c",
   "metadata": {},
   "source": [
    "#### 1. Biễu diễn bằng danh sách / ma trận kề"
   ]
  },
  {
   "cell_type": "code",
   "id": "8715cbf5-d144-479d-9bb3-eb0be736fa12",
   "metadata": {
    "ExecuteTime": {
     "end_time": "2025-09-17T12:20:08.690719Z",
     "start_time": "2025-09-17T12:20:08.688316Z"
    }
   },
   "source": [
    "\"\"\" CÁC BẠN LÀM BÀI Ở ĐÂY \"\"\"\n",
    "ADJ = {'A': {'C', 'E', 'D', 'F'},\n",
    " 'B': {},\n",
    " 'C': {'H'},\n",
    " 'D': {'H', 'E'},\n",
    " 'E': {'K', 'I'},\n",
    " 'F': {'I', 'G'},\n",
    " 'G': {},\n",
    " 'H': {'K'},\n",
    " 'I': {'B', 'K'},\n",
    " 'K': {'B'}}\n",
    "# ...\n",
    "\n"
   ],
   "outputs": [],
   "execution_count": 3
  },
  {
   "cell_type": "code",
   "id": "44f952fc-0188-4215-823b-6efb1ba5622a",
   "metadata": {
    "ExecuteTime": {
     "end_time": "2025-09-17T12:20:08.876377Z",
     "start_time": "2025-09-17T12:20:08.872520Z"
    }
   },
   "source": [
    "import pprint\n",
    "pprint.pprint(ADJ)"
   ],
   "outputs": [
    {
     "name": "stdout",
     "output_type": "stream",
     "text": [
      "{'A': {'E', 'C', 'D', 'F'},\n",
      " 'B': {},\n",
      " 'C': {'H'},\n",
      " 'D': {'E', 'H'},\n",
      " 'E': {'I', 'K'},\n",
      " 'F': {'G', 'I'},\n",
      " 'G': {},\n",
      " 'H': {'K'},\n",
      " 'I': {'B', 'K'},\n",
      " 'K': {'B'}}\n"
     ]
    }
   ],
   "execution_count": 4
  },
  {
   "cell_type": "markdown",
   "id": "c975f35c-f742-4ac2-be01-1fe53c94eadf",
   "metadata": {},
   "source": [
    "#### 2. Thao tác duyệt đồ thị\n",
    "(a) Liệt kê các đỉnh trong đồ thị <br/>\n",
    "(b) Liệt kê tất cả các cạnh đồ thị hiển thị dạng danh sách kề <br/>\n",
    "(c) Cho hai đỉnh A, B. Hỏi hai đỉnh A, B có kề nhau không? <br/>\n",
    "(d) Cho một đỉnh A. Hỏi danh sách các đỉnh kề với A <br/>"
   ]
  },
  {
   "cell_type": "code",
   "id": "d286c1a6-ef93-4581-9f7e-96ea10020985",
   "metadata": {
    "ExecuteTime": {
     "end_time": "2025-09-17T12:20:09.246045Z",
     "start_time": "2025-09-17T12:20:09.243036Z"
    }
   },
   "source": [
    "print(\"2. Thao tác duyệt đồ thị\")"
   ],
   "outputs": [
    {
     "name": "stdout",
     "output_type": "stream",
     "text": [
      "2. Thao tác duyệt đồ thị\n"
     ]
    }
   ],
   "execution_count": 5
  },
  {
   "cell_type": "code",
   "id": "5faa6543-247a-4903-ba2a-9c1595af4f41",
   "metadata": {
    "ExecuteTime": {
     "end_time": "2025-09-17T12:20:09.436079Z",
     "start_time": "2025-09-17T12:20:09.432496Z"
    }
   },
   "source": [
    "print(\"(a) Liệt kê các đỉnh trong đồ thị\")\n",
    "print(\"Các đỉnh của đồ thị: \", end = \" \")\n",
    "\"\"\" CÁC BẠN LÀM BÀI Ở ĐÂY \"\"\"\n",
    "for d in ADJ.keys():\n",
    "    print(d, end = \" \")\n",
    "# ..."
   ],
   "outputs": [
    {
     "name": "stdout",
     "output_type": "stream",
     "text": [
      "(a) Liệt kê các đỉnh trong đồ thị\n",
      "Các đỉnh của đồ thị:  A B C D E F G H I K "
     ]
    }
   ],
   "execution_count": 6
  },
  {
   "cell_type": "code",
   "id": "3df2151a-a327-4672-a7af-519084f4b044",
   "metadata": {
    "ExecuteTime": {
     "end_time": "2025-09-17T12:20:09.606496Z",
     "start_time": "2025-09-17T12:20:09.601131Z"
    }
   },
   "source": [
    "print(\"(b) Liệt kê tất cả các cạnh đồ thị hiển thị dạng danh sách kề\")\n",
    "print(\"Danh sách kề của đồ thị: \")\n",
    "\n",
    "def HienThiDoThi(G):\n",
    "    \"\"\" CÁC BẠN LÀM BÀI Ở ĐÂY \"\"\"\n",
    "    # ...\n",
    "    for key, dinh_ke in G.items():\n",
    "        print(f\"+ Đỉnh {key} :\", end = \" \") if dinh_ke else print(f\"+ Đỉnh {key} :\", end = \"\\n\")\n",
    "        for dinh in dinh_ke:\n",
    "            print(dinh, end = \",\") if dinh != list(dinh_ke)[-1] else print(dinh, end = \",\\n\")\n",
    "\n",
    "HienThiDoThi(ADJ)"
   ],
   "outputs": [
    {
     "name": "stdout",
     "output_type": "stream",
     "text": [
      "(b) Liệt kê tất cả các cạnh đồ thị hiển thị dạng danh sách kề\n",
      "Danh sách kề của đồ thị: \n",
      "+ Đỉnh A : E,C,D,F,\n",
      "+ Đỉnh B :\n",
      "+ Đỉnh C : H,\n",
      "+ Đỉnh D : E,H,\n",
      "+ Đỉnh E : I,K,\n",
      "+ Đỉnh F : G,I,\n",
      "+ Đỉnh G :\n",
      "+ Đỉnh H : K,\n",
      "+ Đỉnh I : B,K,\n",
      "+ Đỉnh K : B,\n"
     ]
    }
   ],
   "execution_count": 7
  },
  {
   "cell_type": "code",
   "id": "4077c30a-c7be-4a44-93de-9ed446a6a368",
   "metadata": {
    "ExecuteTime": {
     "end_time": "2025-09-17T12:20:09.794270Z",
     "start_time": "2025-09-17T12:20:09.788476Z"
    }
   },
   "source": [
    "print(\"(c) Cho hai đỉnh A, B. Hỏi hai đỉnh A, B có kề nhau không?\")\n",
    "\n",
    "def LaKe(G, a, b):\n",
    "    \"\"\"\n",
    "    input: G, a, b\n",
    "    return: \n",
    "    + -1: dinh a, hay b khong ton tai\n",
    "    +  0: dinh a, b ton tai va a khong ke b\n",
    "    +  1: dinh a, b ton tai va a, b ke nhau\n",
    "    \"\"\"\n",
    "    result = None\n",
    "    \"\"\" CÁC BẠN LÀM BÀI Ở ĐÂY \"\"\"\n",
    "    try:\n",
    "        result = 0\n",
    "        if list(G[a]) and list(G[b]):\n",
    "            for dinh in list(G[a]):\n",
    "                if dinh == b:\n",
    "                    result = 1\n",
    "                    break\n",
    "\n",
    "    except KeyError:\n",
    "        result = -1\n",
    "    # ...  \n",
    "    \n",
    "    return result"
   ],
   "outputs": [
    {
     "name": "stdout",
     "output_type": "stream",
     "text": [
      "(c) Cho hai đỉnh A, B. Hỏi hai đỉnh A, B có kề nhau không?\n"
     ]
    }
   ],
   "execution_count": 8
  },
  {
   "cell_type": "code",
   "id": "0e90a761-8354-460a-a451-1cbb97b9b6b8",
   "metadata": {
    "ExecuteTime": {
     "end_time": "2025-09-17T12:20:09.952836Z",
     "start_time": "2025-09-17T12:20:09.949533Z"
    }
   },
   "source": [
    "a = \"L\"; b = \"R\"; print(f\"{a} ke {b}: {LaKe(ADJ, a, b)}\")\n",
    "a = \"A\"; b = \"R\"; print(f\"{a} ke {b}: {LaKe(ADJ, a, b)}\")\n",
    "a = \"E\"; b = \"D\"; print(f\"{a} ke {b}: {LaKe(ADJ, a, b)}\")\n",
    "a = \"D\"; b = \"E\"; print(f\"{a} ke {b}: {LaKe(ADJ, a, b)}\")"
   ],
   "outputs": [
    {
     "name": "stdout",
     "output_type": "stream",
     "text": [
      "L ke R: -1\n",
      "A ke R: -1\n",
      "E ke D: 0\n",
      "D ke E: 1\n"
     ]
    }
   ],
   "execution_count": 9
  },
  {
   "cell_type": "code",
   "id": "41048b4b-9311-470f-9c0f-2bcb5b062587",
   "metadata": {
    "ExecuteTime": {
     "end_time": "2025-09-17T12:20:10.126303Z",
     "start_time": "2025-09-17T12:20:10.122332Z"
    }
   },
   "source": [
    "print(\"(d) Cho một đỉnh A. Hỏi danh sách các đỉnh kề với A\")\n",
    "\n",
    "def LayKe(G, a):\n",
    "    \"\"\"\n",
    "    input: G, a\n",
    "    return: \n",
    "    + None: neu a khong ton tai\n",
    "    + []  : a khong ke voi bat ky dinh nao\n",
    "    + [x, y, ...]: mang cac dinh ke voi a\n",
    "    \"\"\"\n",
    "    result = None\n",
    "    \n",
    "    \"\"\" CÁC BẠN LÀM BÀI Ở ĐÂY \"\"\"\n",
    "    # ...\n",
    "    try:\n",
    "        result = list(G[a])\n",
    "    except KeyError:\n",
    "        result = None\n",
    "    return result\n",
    "\n",
    "a = \"P\"; print(f\"Danh sach ke voi dinh {a}: {LayKe(ADJ, a)}\")\n",
    "a = \"A\"; print(f\"Danh sach ke voi dinh {a}: {LayKe(ADJ, a)}\")\n",
    "a = \"B\"; print(f\"Danh sach ke voi dinh {a}: {LayKe(ADJ, a)}\")\n",
    "a = \"D\"; print(f\"Danh sach ke voi dinh {a}: {LayKe(ADJ, a)}\")"
   ],
   "outputs": [
    {
     "name": "stdout",
     "output_type": "stream",
     "text": [
      "(d) Cho một đỉnh A. Hỏi danh sách các đỉnh kề với A\n",
      "Danh sach ke voi dinh P: None\n",
      "Danh sach ke voi dinh A: ['E', 'C', 'D', 'F']\n",
      "Danh sach ke voi dinh B: []\n",
      "Danh sach ke voi dinh D: ['E', 'H']\n"
     ]
    }
   ],
   "execution_count": 10
  },
  {
   "cell_type": "markdown",
   "id": "465a8fdb-f10f-47a9-91ab-1b23598fda4f",
   "metadata": {},
   "source": [
    "#### 3. Đọc và lưu đồ thị\n",
    "**dske.txt**\n",
    "```\n",
    "10           # số đỉnh đồ thị\n",
    "A C E F D    # đỉnh A kề với C E F D\n",
    "B            # đỉnh B không kề với ai\n",
    "C H\n",
    "D E H\n",
    "E K I\n",
    "F I G\n",
    "G\n",
    "H K\n",
    "I K B\n",
    "K B\n",
    "```"
   ]
  },
  {
   "cell_type": "code",
   "id": "a71b385f-d571-4d94-88f1-427527c23653",
   "metadata": {
    "ExecuteTime": {
     "end_time": "2025-09-17T12:20:10.449594Z",
     "start_time": "2025-09-17T12:20:10.443819Z"
    }
   },
   "source": [
    "print(\"1. Lưu đồ thị xuống tập tin\")\n",
    "\n",
    "def LuuDoThi(G, file_path, verbose = True):\n",
    "    import os\n",
    "    \n",
    "    \"\"\" CÁC BẠN LÀM BÀI Ở ĐÂY \"\"\"\n",
    "    \n",
    "    # Tạo thư mục chứa file_path\n",
    "    file_dir = os.path.dirname(file_path)\n",
    "    if file_dir != \"\" and os.path.exists(file_path) == False:\n",
    "        os.makedirs(file_dir)\n",
    "        if verbose: print(f\"+ Tao thu muc: {file_dir}\")\n",
    "    \n",
    "    # Lưu đồ thị\n",
    "    with open(file_path, \"wt\") as file:\n",
    "        \"\"\" CÁC BẠN LÀM BÀI Ở ĐÂY \"\"\"\n",
    "        # ...\n",
    "        file.write(str(len(G.keys())))\n",
    "        for key, dinh_ke in G.items():\n",
    "            str_dinh_ke = \"\"\n",
    "            for dinh in list(dinh_ke):\n",
    "                str_dinh_ke += f\"{dinh} \"\n",
    "            file.write(f\"\\n{key} {str_dinh_ke}\")\n",
    "        if verbose: print(f\"Luu do thi thanh cong xuong tap tin: {file_path}\")\n",
    "    pass\n",
    "\n",
    "LuuDoThi(ADJ, \"dske1.txt\", verbose = True)\n",
    "with open(\"dske1.txt\", \"rt\") as file:\n",
    "    lines = file.readlines()\n",
    "    for line in lines: print(line, end=\"\")"
   ],
   "outputs": [
    {
     "name": "stdout",
     "output_type": "stream",
     "text": [
      "1. Lưu đồ thị xuống tập tin\n",
      "Luu do thi thanh cong xuong tap tin: dske1.txt\n",
      "10\n",
      "A E C D F \n",
      "B \n",
      "C H \n",
      "D E H \n",
      "E I K \n",
      "F G I \n",
      "G \n",
      "H K \n",
      "I B K \n",
      "K B "
     ]
    }
   ],
   "execution_count": 11
  },
  {
   "cell_type": "code",
   "id": "b30921dc-fb94-44a5-907f-0d66340757a0",
   "metadata": {
    "ExecuteTime": {
     "end_time": "2025-09-17T12:20:10.607939Z",
     "start_time": "2025-09-17T12:20:10.602844Z"
    }
   },
   "source": [
    "print(\"2. Đọc đồ thị từ tập tin\")\n",
    "import pprint\n",
    "\n",
    "def DocDoThi(file_path, verbose = True):\n",
    "    \"\"\"\n",
    "    return:\n",
    "    + None: doc that bai\n",
    "    + <>None: tra ve do thi\n",
    "    \"\"\"\n",
    "    import os\n",
    "    \n",
    "    result = None\n",
    "    if os.path.exists(file_path) == False:\n",
    "        result = None\n",
    "    else:\n",
    "        G = {}\n",
    "        with open(file_path, \"rt\") as file:\n",
    "            n = int(file.readline())\n",
    "            \"\"\" CÁC BẠN LÀM BÀI Ở ĐÂY \"\"\"\n",
    "            # ...\n",
    "            for i in range(0, n):\n",
    "                new_line = file.readline().split(\" \")\n",
    "                d = new_line[0]\n",
    "                dinh_ke = set()\n",
    "                for d_i in range(1, len(new_line)-1):\n",
    "                    dinh_ke.add(new_line[d_i])\n",
    "                G[d] = dinh_ke\n",
    "            \n",
    "            pass\n",
    "        result = G\n",
    "    return result\n",
    "\n",
    "G1 = DocDoThi(\"dske1.txt\", verbose = True)\n",
    "pprint.pprint(G1)"
   ],
   "outputs": [
    {
     "name": "stdout",
     "output_type": "stream",
     "text": [
      "2. Đọc đồ thị từ tập tin\n",
      "{'A': {'E', 'C', 'D', 'F'},\n",
      " 'B': set(),\n",
      " 'C': {'H'},\n",
      " 'D': {'E', 'H'},\n",
      " 'E': {'I', 'K'},\n",
      " 'F': {'G', 'I'},\n",
      " 'G': set(),\n",
      " 'H': {'K'},\n",
      " 'I': {'B', 'K'},\n",
      " 'K': {'B'}}\n"
     ]
    }
   ],
   "execution_count": 12
  },
  {
   "cell_type": "markdown",
   "id": "8197f40f-69af-489d-80b5-124c91427db6",
   "metadata": {},
   "source": [
    "### Bài 2. Tìm kiếm đường đi trên đồ thị"
   ]
  },
  {
   "cell_type": "markdown",
   "id": "43f12303-9ee9-4404-9ecb-f00a5f78e4ee",
   "metadata": {},
   "source": [
    "#### 1. Tìm kiếm theo chiều rộng (BFS)"
   ]
  },
  {
   "cell_type": "code",
   "id": "1910f300-4094-4d69-b009-a9d4ea0fb27b",
   "metadata": {
    "ExecuteTime": {
     "end_time": "2025-09-17T12:20:11.146050Z",
     "start_time": "2025-09-17T12:20:11.141753Z"
    }
   },
   "source": [
    "import pprint\n",
    "\n",
    "def BFS(G, start, goal):\n",
    "    \"\"\"\n",
    "    return: \n",
    "    + mang chua duong di tu a --> b, neu rong la ko co duong di\n",
    "    + None: dinh a, b khong hop le\n",
    "    \"\"\"\n",
    "    result = None\n",
    "    \n",
    "    if G.get(start) is None or G.get(goal) is None:\n",
    "        result = None\n",
    "    else:\n",
    "        path = {}     # path[a]=b nghia la muon di toi dinh b phai qua a\n",
    "        s_open   = []\n",
    "        s_closed = []\n",
    "        \n",
    "        # đưa start vào open\n",
    "        s_open.append(start)    \n",
    "        path[start] = None\n",
    "        while len(s_open)>0:\n",
    "            \"\"\" CÁC BẠN LÀM BÀI Ở ĐÂY \"\"\"\n",
    "            # ...\n",
    "            u = s_open.pop(0)   # lấy đỉnh đầu queue\n",
    "            s_closed.append(u)\n",
    "\n",
    "            for v in G[u]:\n",
    "                if v not in path:   # chưa thăm\n",
    "                    path[v] = u\n",
    "                    s_open.append(v)\n",
    "\n",
    "                    if v == goal:\n",
    "                        # có thể break nếu chỉ cần đường đến goal\n",
    "                        pass\n",
    "    return path"
   ],
   "outputs": [],
   "execution_count": 13
  },
  {
   "cell_type": "code",
   "id": "ed7e6ed1-ae75-4183-8cb2-0e4eae606144",
   "metadata": {
    "ExecuteTime": {
     "end_time": "2025-09-17T12:20:11.353976Z",
     "start_time": "2025-09-17T12:20:11.349517Z"
    }
   },
   "source": [
    "path = BFS(ADJ, \"A\", \"B\")\n",
    "pprint.pprint(path)\n",
    "print(path)"
   ],
   "outputs": [
    {
     "name": "stdout",
     "output_type": "stream",
     "text": [
      "{'A': None,\n",
      " 'B': 'I',\n",
      " 'C': 'A',\n",
      " 'D': 'A',\n",
      " 'E': 'A',\n",
      " 'F': 'A',\n",
      " 'G': 'F',\n",
      " 'H': 'C',\n",
      " 'I': 'E',\n",
      " 'K': 'E'}\n",
      "{'A': None, 'E': 'A', 'C': 'A', 'D': 'A', 'F': 'A', 'I': 'E', 'K': 'E', 'H': 'C', 'G': 'F', 'B': 'I'}\n"
     ]
    }
   ],
   "execution_count": 14
  },
  {
   "cell_type": "code",
   "id": "cd05574f-d2fa-4f71-80b2-1f9c5b45f945",
   "metadata": {
    "ExecuteTime": {
     "end_time": "2025-09-17T12:20:11.537976Z",
     "start_time": "2025-09-17T12:20:11.535003Z"
    }
   },
   "source": [
    "def find_path(path, start, goal):\n",
    "    \"\"\"\n",
    "    Cho mang truy hoi duong, tim ds dinh tu start --> goal\n",
    "    \"\"\"\n",
    "    result = []\n",
    "    \n",
    "    \"\"\" CÁC BẠN LÀM BÀI Ở ĐÂY \"\"\"\n",
    "    # ...\n",
    "    cur = goal\n",
    "    while cur is not None:\n",
    "        result.append(cur)\n",
    "        cur = path.get(cur)\n",
    "        print(f\"path: {cur}\")\n",
    "\n",
    "    result.reverse()\n",
    "    return result\n",
    "    pass"
   ],
   "outputs": [],
   "execution_count": 15
  },
  {
   "cell_type": "code",
   "id": "50a093aa-283b-4623-9428-a0631e37328b",
   "metadata": {
    "ExecuteTime": {
     "end_time": "2025-09-17T12:20:12.130635Z",
     "start_time": "2025-09-17T12:20:12.117530Z"
    }
   },
   "source": "find_path(path, 'A', 'B')",
   "outputs": [
    {
     "name": "stdout",
     "output_type": "stream",
     "text": [
      "path: I\n",
      "path: E\n",
      "path: A\n",
      "path: None\n"
     ]
    },
    {
     "data": {
      "text/plain": [
       "['A', 'E', 'I', 'B']"
      ]
     },
     "execution_count": 16,
     "metadata": {},
     "output_type": "execute_result"
    }
   ],
   "execution_count": 16
  },
  {
   "cell_type": "markdown",
   "id": "16085819-733d-4f95-a32d-aa52c5e35a6e",
   "metadata": {},
   "source": [
    "#### 2. Tìm kiếm theo chiều rộng (DFS)"
   ]
  },
  {
   "cell_type": "code",
   "id": "50ebc7cd-f093-4d06-852c-e6c903e27864",
   "metadata": {
    "ExecuteTime": {
     "end_time": "2025-09-17T12:20:14.742565Z",
     "start_time": "2025-09-17T12:20:14.738702Z"
    }
   },
   "source": [
    "import pprint\n",
    "\n",
    "def DFS(G, start, goal):\n",
    "    \"\"\"\n",
    "    return: \n",
    "    + mang chua duong di tu a --> b, neu rong la ko co duong di\n",
    "    + None: dinh a, b khong hop le\n",
    "    \"\"\"\n",
    "    result = None\n",
    "    \n",
    "    if G.get(start) is None or G.get(goal) is None:\n",
    "        result = None\n",
    "    else:\n",
    "        path = {}     # path[a]=b nghia la muon di toi dinh b phai qua a\n",
    "        s_open   = []\n",
    "        s_closed = []\n",
    "        \n",
    "        # đưa start vào open\n",
    "        s_open.append(start)    \n",
    "        path[start] = None\n",
    "        while len(s_open) > 0:\n",
    "            u = s_open.pop()\n",
    "            if u not in s_closed:\n",
    "                s_closed.append(u)\n",
    "\n",
    "                for v in G[u]:\n",
    "                    if v not in path:\n",
    "                        path[v] = u\n",
    "                        s_open.append(v)\n",
    "\n",
    "                        if v == goal:\n",
    "                            pass\n",
    "        \n",
    "    return path"
   ],
   "outputs": [],
   "execution_count": 17
  },
  {
   "cell_type": "code",
   "id": "8177518a-8ffc-4a29-be9c-90375367793a",
   "metadata": {
    "ExecuteTime": {
     "end_time": "2025-09-17T12:20:16.203138Z",
     "start_time": "2025-09-17T12:20:16.200452Z"
    }
   },
   "source": [
    "path = DFS(ADJ, \"A\", \"B\")\n",
    "pprint.pprint(path)"
   ],
   "outputs": [
    {
     "name": "stdout",
     "output_type": "stream",
     "text": [
      "{'A': None,\n",
      " 'B': 'I',\n",
      " 'C': 'A',\n",
      " 'D': 'A',\n",
      " 'E': 'A',\n",
      " 'F': 'A',\n",
      " 'G': 'F',\n",
      " 'H': 'D',\n",
      " 'I': 'F',\n",
      " 'K': 'I'}\n"
     ]
    }
   ],
   "execution_count": 18
  },
  {
   "cell_type": "markdown",
   "id": "d037e84a-1f8c-4388-89f6-9b1e105140da",
   "metadata": {},
   "source": [
    "# Kết thúc"
   ]
  }
 ],
 "metadata": {
  "kernelspec": {
   "display_name": "Python 3",
   "language": "python",
   "name": "python3"
  },
  "language_info": {
   "codemirror_mode": {
    "name": "ipython",
    "version": 3
   },
   "file_extension": ".py",
   "mimetype": "text/x-python",
   "name": "python",
   "nbconvert_exporter": "python",
   "pygments_lexer": "ipython3",
   "version": "3.8.8"
  }
 },
 "nbformat": 4,
 "nbformat_minor": 5
}
